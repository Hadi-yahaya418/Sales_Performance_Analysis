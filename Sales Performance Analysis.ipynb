{
 "cells": [
  {
   "cell_type": "markdown",
   "metadata": {},
   "source": [
    "<h1><strong>Sales Performance Analysis</strong></h1>"
   ]
  },
  {
   "cell_type": "markdown",
   "metadata": {},
   "source": [
    "<h2><strong>Loading The Required Libraries</strong></h2>"
   ]
  },
  {
   "cell_type": "code",
   "execution_count": 1,
   "metadata": {},
   "outputs": [],
   "source": [
    "import numpy as np\n",
    "import matplotlib.pyplot  as plt\n",
    "import pandas as pd\n",
    "import seaborn as sns"
   ]
  },
  {
   "cell_type": "markdown",
   "metadata": {},
   "source": [
    "<h2><strong>Loading The Required DataSet</strong></h2>"
   ]
  },
  {
   "cell_type": "code",
   "execution_count": 2,
   "metadata": {},
   "outputs": [
    {
     "data": {
      "text/html": [
       "<div>\n",
       "<style scoped>\n",
       "    .dataframe tbody tr th:only-of-type {\n",
       "        vertical-align: middle;\n",
       "    }\n",
       "\n",
       "    .dataframe tbody tr th {\n",
       "        vertical-align: top;\n",
       "    }\n",
       "\n",
       "    .dataframe thead th {\n",
       "        text-align: right;\n",
       "    }\n",
       "</style>\n",
       "<table border=\"1\" class=\"dataframe\">\n",
       "  <thead>\n",
       "    <tr style=\"text-align: right;\">\n",
       "      <th></th>\n",
       "      <th>Date</th>\n",
       "      <th>Units Sold</th>\n",
       "      <th>unit_price</th>\n",
       "      <th>Profit per unit</th>\n",
       "      <th>Export Value</th>\n",
       "    </tr>\n",
       "  </thead>\n",
       "  <tbody>\n",
       "    <tr>\n",
       "      <th>count</th>\n",
       "      <td>1000</td>\n",
       "      <td>1000.000000</td>\n",
       "      <td>1000.000000</td>\n",
       "      <td>1000.000000</td>\n",
       "      <td>1.000000e+03</td>\n",
       "    </tr>\n",
       "    <tr>\n",
       "      <th>mean</th>\n",
       "      <td>2021-12-30 07:03:21.599999744</td>\n",
       "      <td>536.804000</td>\n",
       "      <td>30010.266660</td>\n",
       "      <td>6125.299550</td>\n",
       "      <td>1.631766e+07</td>\n",
       "    </tr>\n",
       "    <tr>\n",
       "      <th>min</th>\n",
       "      <td>2020-01-05 00:00:00</td>\n",
       "      <td>103.000000</td>\n",
       "      <td>10006.540000</td>\n",
       "      <td>2000.300000</td>\n",
       "      <td>1.323777e+06</td>\n",
       "    </tr>\n",
       "    <tr>\n",
       "      <th>25%</th>\n",
       "      <td>2021-01-03 00:00:00</td>\n",
       "      <td>322.750000</td>\n",
       "      <td>20013.620000</td>\n",
       "      <td>4261.327500</td>\n",
       "      <td>7.669552e+06</td>\n",
       "    </tr>\n",
       "    <tr>\n",
       "      <th>50%</th>\n",
       "      <td>2021-12-25 00:00:00</td>\n",
       "      <td>519.000000</td>\n",
       "      <td>30082.600000</td>\n",
       "      <td>6132.150000</td>\n",
       "      <td>1.441451e+07</td>\n",
       "    </tr>\n",
       "    <tr>\n",
       "      <th>75%</th>\n",
       "      <td>2022-12-31 00:00:00</td>\n",
       "      <td>743.250000</td>\n",
       "      <td>39955.005000</td>\n",
       "      <td>8038.315000</td>\n",
       "      <td>2.262969e+07</td>\n",
       "    </tr>\n",
       "    <tr>\n",
       "      <th>max</th>\n",
       "      <td>2023-12-30 00:00:00</td>\n",
       "      <td>999.000000</td>\n",
       "      <td>49985.860000</td>\n",
       "      <td>9990.570000</td>\n",
       "      <td>4.712082e+07</td>\n",
       "    </tr>\n",
       "    <tr>\n",
       "      <th>std</th>\n",
       "      <td>NaN</td>\n",
       "      <td>251.311112</td>\n",
       "      <td>11515.423486</td>\n",
       "      <td>2269.844681</td>\n",
       "      <td>1.028734e+07</td>\n",
       "    </tr>\n",
       "  </tbody>\n",
       "</table>\n",
       "</div>"
      ],
      "text/plain": [
       "                                Date   Units Sold    unit_price  \\\n",
       "count                           1000  1000.000000   1000.000000   \n",
       "mean   2021-12-30 07:03:21.599999744   536.804000  30010.266660   \n",
       "min              2020-01-05 00:00:00   103.000000  10006.540000   \n",
       "25%              2021-01-03 00:00:00   322.750000  20013.620000   \n",
       "50%              2021-12-25 00:00:00   519.000000  30082.600000   \n",
       "75%              2022-12-31 00:00:00   743.250000  39955.005000   \n",
       "max              2023-12-30 00:00:00   999.000000  49985.860000   \n",
       "std                              NaN   251.311112  11515.423486   \n",
       "\n",
       "       Profit per unit  Export Value  \n",
       "count      1000.000000  1.000000e+03  \n",
       "mean       6125.299550  1.631766e+07  \n",
       "min        2000.300000  1.323777e+06  \n",
       "25%        4261.327500  7.669552e+06  \n",
       "50%        6132.150000  1.441451e+07  \n",
       "75%        8038.315000  2.262969e+07  \n",
       "max        9990.570000  4.712082e+07  \n",
       "std        2269.844681  1.028734e+07  "
      ]
     },
     "execution_count": 2,
     "metadata": {},
     "output_type": "execute_result"
    }
   ],
   "source": [
    "df = pd.read_excel(r\"C:\\Users\\USER\\Documents\\Course Work\\practice questions\\Copy of wfshg (1).xlsx\")\n",
    "df.describe()"
   ]
  },
  {
   "cell_type": "markdown",
   "metadata": {},
   "source": [
    "<h2><strong>Checking The DataSet</strong></h2>"
   ]
  },
  {
   "cell_type": "code",
   "execution_count": 7,
   "metadata": {},
   "outputs": [
    {
     "data": {
      "text/html": [
       "<div>\n",
       "<style scoped>\n",
       "    .dataframe tbody tr th:only-of-type {\n",
       "        vertical-align: middle;\n",
       "    }\n",
       "\n",
       "    .dataframe tbody tr th {\n",
       "        vertical-align: top;\n",
       "    }\n",
       "\n",
       "    .dataframe thead th {\n",
       "        text-align: right;\n",
       "    }\n",
       "</style>\n",
       "<table border=\"1\" class=\"dataframe\">\n",
       "  <thead>\n",
       "    <tr style=\"text-align: right;\">\n",
       "      <th></th>\n",
       "      <th>Product Name</th>\n",
       "      <th>Company</th>\n",
       "      <th>Export Country</th>\n",
       "      <th>Date</th>\n",
       "      <th>Units Sold</th>\n",
       "      <th>unit_price</th>\n",
       "      <th>Profit per unit</th>\n",
       "      <th>Export Value</th>\n",
       "      <th>Destination Port</th>\n",
       "      <th>Transportation Mode</th>\n",
       "    </tr>\n",
       "  </thead>\n",
       "  <tbody>\n",
       "    <tr>\n",
       "      <th>0</th>\n",
       "      <td>Rubber</td>\n",
       "      <td>Farmgate Nigeria Limited</td>\n",
       "      <td>Austria</td>\n",
       "      <td>2023-11-16</td>\n",
       "      <td>721</td>\n",
       "      <td>31443.05</td>\n",
       "      <td>5863.92</td>\n",
       "      <td>22670439.05</td>\n",
       "      <td>Lagos</td>\n",
       "      <td>Sea</td>\n",
       "    </tr>\n",
       "    <tr>\n",
       "      <th>1</th>\n",
       "      <td>Palm Oil</td>\n",
       "      <td>Prime Agro Exports Nigeria Limited</td>\n",
       "      <td>Germany</td>\n",
       "      <td>2021-01-08</td>\n",
       "      <td>881</td>\n",
       "      <td>23151.97</td>\n",
       "      <td>5868.73</td>\n",
       "      <td>20396885.57</td>\n",
       "      <td>Lagos</td>\n",
       "      <td>Sea</td>\n",
       "    </tr>\n",
       "    <tr>\n",
       "      <th>2</th>\n",
       "      <td>Cassava</td>\n",
       "      <td>Farmgate Nigeria Limited</td>\n",
       "      <td>Germany</td>\n",
       "      <td>2020-10-14</td>\n",
       "      <td>702</td>\n",
       "      <td>18536.45</td>\n",
       "      <td>5105.01</td>\n",
       "      <td>13012587.90</td>\n",
       "      <td>Calabar</td>\n",
       "      <td>Sea</td>\n",
       "    </tr>\n",
       "    <tr>\n",
       "      <th>3</th>\n",
       "      <td>Rubber</td>\n",
       "      <td>Nigerian Export Promotion Council (NEPC)</td>\n",
       "      <td>Belgium</td>\n",
       "      <td>2022-12-31</td>\n",
       "      <td>191</td>\n",
       "      <td>21981.31</td>\n",
       "      <td>7781.54</td>\n",
       "      <td>4198430.21</td>\n",
       "      <td>Warri</td>\n",
       "      <td>Sea</td>\n",
       "    </tr>\n",
       "    <tr>\n",
       "      <th>4</th>\n",
       "      <td>Sesame</td>\n",
       "      <td>Nigeria Agro Export Company</td>\n",
       "      <td>France</td>\n",
       "      <td>2022-12-19</td>\n",
       "      <td>373</td>\n",
       "      <td>13415.94</td>\n",
       "      <td>9590.95</td>\n",
       "      <td>5004145.62</td>\n",
       "      <td>Lagos</td>\n",
       "      <td>Sea</td>\n",
       "    </tr>\n",
       "    <tr>\n",
       "      <th>...</th>\n",
       "      <td>...</td>\n",
       "      <td>...</td>\n",
       "      <td>...</td>\n",
       "      <td>...</td>\n",
       "      <td>...</td>\n",
       "      <td>...</td>\n",
       "      <td>...</td>\n",
       "      <td>...</td>\n",
       "      <td>...</td>\n",
       "      <td>...</td>\n",
       "    </tr>\n",
       "    <tr>\n",
       "      <th>995</th>\n",
       "      <td>Cashew</td>\n",
       "      <td>Nigeria Agro Export Company</td>\n",
       "      <td>Netherlands</td>\n",
       "      <td>2023-06-11</td>\n",
       "      <td>730</td>\n",
       "      <td>49937.99</td>\n",
       "      <td>9149.40</td>\n",
       "      <td>36454732.70</td>\n",
       "      <td>Warri</td>\n",
       "      <td>Sea</td>\n",
       "    </tr>\n",
       "    <tr>\n",
       "      <th>996</th>\n",
       "      <td>Rubber</td>\n",
       "      <td>Agro Export Nigeria Ltd</td>\n",
       "      <td>Sweden</td>\n",
       "      <td>2023-11-01</td>\n",
       "      <td>952</td>\n",
       "      <td>15607.62</td>\n",
       "      <td>5086.57</td>\n",
       "      <td>14858454.24</td>\n",
       "      <td>Lagos</td>\n",
       "      <td>Sea</td>\n",
       "    </tr>\n",
       "    <tr>\n",
       "      <th>997</th>\n",
       "      <td>Rubber</td>\n",
       "      <td>Agro Allied Exporters Nigeria Limited</td>\n",
       "      <td>Netherlands</td>\n",
       "      <td>2023-08-06</td>\n",
       "      <td>447</td>\n",
       "      <td>49544.50</td>\n",
       "      <td>6381.92</td>\n",
       "      <td>22146391.50</td>\n",
       "      <td>Lagos</td>\n",
       "      <td>Sea</td>\n",
       "    </tr>\n",
       "    <tr>\n",
       "      <th>998</th>\n",
       "      <td>Cashew</td>\n",
       "      <td>Greenfield Agro Exporters Nigeria Limited</td>\n",
       "      <td>Germany</td>\n",
       "      <td>2023-03-05</td>\n",
       "      <td>315</td>\n",
       "      <td>42814.92</td>\n",
       "      <td>6620.22</td>\n",
       "      <td>13486699.80</td>\n",
       "      <td>Lagos</td>\n",
       "      <td>Sea</td>\n",
       "    </tr>\n",
       "    <tr>\n",
       "      <th>999</th>\n",
       "      <td>Cassava</td>\n",
       "      <td>Nigeria Agro Export Company</td>\n",
       "      <td>Denmark</td>\n",
       "      <td>2020-08-09</td>\n",
       "      <td>504</td>\n",
       "      <td>10656.58</td>\n",
       "      <td>9979.02</td>\n",
       "      <td>5370916.32</td>\n",
       "      <td>Lagos</td>\n",
       "      <td>Sea</td>\n",
       "    </tr>\n",
       "  </tbody>\n",
       "</table>\n",
       "<p>1000 rows × 10 columns</p>\n",
       "</div>"
      ],
      "text/plain": [
       "    Product Name                                    Company Export Country  \\\n",
       "0         Rubber                   Farmgate Nigeria Limited        Austria   \n",
       "1       Palm Oil         Prime Agro Exports Nigeria Limited        Germany   \n",
       "2        Cassava                   Farmgate Nigeria Limited        Germany   \n",
       "3         Rubber   Nigerian Export Promotion Council (NEPC)        Belgium   \n",
       "4         Sesame                Nigeria Agro Export Company         France   \n",
       "..           ...                                        ...            ...   \n",
       "995       Cashew                Nigeria Agro Export Company    Netherlands   \n",
       "996       Rubber                    Agro Export Nigeria Ltd         Sweden   \n",
       "997       Rubber      Agro Allied Exporters Nigeria Limited    Netherlands   \n",
       "998       Cashew  Greenfield Agro Exporters Nigeria Limited        Germany   \n",
       "999      Cassava                Nigeria Agro Export Company        Denmark   \n",
       "\n",
       "          Date  Units Sold  unit_price  Profit per unit  Export Value  \\\n",
       "0   2023-11-16         721    31443.05          5863.92   22670439.05   \n",
       "1   2021-01-08         881    23151.97          5868.73   20396885.57   \n",
       "2   2020-10-14         702    18536.45          5105.01   13012587.90   \n",
       "3   2022-12-31         191    21981.31          7781.54    4198430.21   \n",
       "4   2022-12-19         373    13415.94          9590.95    5004145.62   \n",
       "..         ...         ...         ...              ...           ...   \n",
       "995 2023-06-11         730    49937.99          9149.40   36454732.70   \n",
       "996 2023-11-01         952    15607.62          5086.57   14858454.24   \n",
       "997 2023-08-06         447    49544.50          6381.92   22146391.50   \n",
       "998 2023-03-05         315    42814.92          6620.22   13486699.80   \n",
       "999 2020-08-09         504    10656.58          9979.02    5370916.32   \n",
       "\n",
       "    Destination Port Transportation Mode  \n",
       "0              Lagos                 Sea  \n",
       "1              Lagos                 Sea  \n",
       "2            Calabar                 Sea  \n",
       "3              Warri                 Sea  \n",
       "4              Lagos                 Sea  \n",
       "..               ...                 ...  \n",
       "995            Warri                 Sea  \n",
       "996            Lagos                 Sea  \n",
       "997            Lagos                 Sea  \n",
       "998            Lagos                 Sea  \n",
       "999            Lagos                 Sea  \n",
       "\n",
       "[1000 rows x 10 columns]"
      ]
     },
     "execution_count": 7,
     "metadata": {},
     "output_type": "execute_result"
    }
   ],
   "source": [
    "df"
   ]
  },
  {
   "cell_type": "markdown",
   "metadata": {},
   "source": [
    "<h2><strong>Finally, All The Required Performance Analysis From The DataSet</strong></h2>"
   ]
  },
  {
   "cell_type": "code",
   "execution_count": 10,
   "metadata": {},
   "outputs": [
    {
     "data": {
      "text/plain": [
       "'Sesame'"
      ]
     },
     "execution_count": 10,
     "metadata": {},
     "output_type": "execute_result"
    }
   ],
   "source": [
    "total_units_per_product = df.groupby('Product Name')['Units Sold'].sum()\n",
    "highest_total_units_per_product = total_units_per_product.idxmax()\n",
    "highest_total_units_per_product"
   ]
  },
  {
   "cell_type": "code",
   "execution_count": 14,
   "metadata": {},
   "outputs": [
    {
     "data": {
      "text/plain": [
       "Company\n",
       "Agriplus Nigeria Limited                      9.712856\n",
       "Agro Allied Exporters Nigeria Limited         8.793526\n",
       "Agro Export Nigeria Ltd                      11.166832\n",
       "Farmgate Nigeria Limited                      9.688825\n",
       "Golden Farms Nigeria Limited                 11.312136\n",
       "Greenfield Agro Exporters Nigeria Limited     9.432307\n",
       "Nigeria Agro Export Company                  10.193106\n",
       "Nigerian Export Promotion Council (NEPC)     10.401003\n",
       "Prime Agro Exports Nigeria Limited            9.693482\n",
       "Solid Agro Nigeria Limited                    9.605927\n",
       "Name: Units Sold, dtype: float64"
      ]
     },
     "execution_count": 14,
     "metadata": {},
     "output_type": "execute_result"
    }
   ],
   "source": [
    "units_sold_per_company = df.groupby('Company')['Units Sold'].sum()\n",
    "percentage_contribution = (units_sold_per_company/units_sold_per_company.sum())*100\n",
    "percentage_contribution"
   ]
  },
  {
   "cell_type": "code",
   "execution_count": 15,
   "metadata": {},
   "outputs": [
    {
     "data": {
      "text/plain": [
       "'Lagos'"
      ]
     },
     "execution_count": 15,
     "metadata": {},
     "output_type": "execute_result"
    }
   ],
   "source": [
    "units_sold_per_destination_port = df.groupby('Destination Port')['Units Sold'].sum()\n",
    "highest_unit_sold_for_destination_port = units_sold_per_destination_port.idxmax()\n",
    "highest_unit_sold_for_destination_port"
   ]
  },
  {
   "cell_type": "code",
   "execution_count": 16,
   "metadata": {},
   "outputs": [
    {
     "name": "stdout",
     "output_type": "stream",
     "text": [
      "Average unit price per product:\n",
      " Product Name\n",
      "Cashew      29305.853237\n",
      "Cassava     28566.641833\n",
      "Cocoa       31227.870000\n",
      "Ginger      29061.767327\n",
      "Palm Oil    30126.338306\n",
      "Plantain    30200.084754\n",
      "Rubber      31673.915680\n",
      "Sesame      29678.281729\n",
      "Name: unit_price, dtype: float64\n"
     ]
    }
   ],
   "source": [
    "avg_unit_price_per_product = df.groupby('Product Name')['unit_price'].mean()\n",
    "print('Average unit price per product:\\n',avg_unit_price_per_product)"
   ]
  },
  {
   "cell_type": "code",
   "execution_count": 17,
   "metadata": {},
   "outputs": [
    {
     "name": "stdout",
     "output_type": "stream",
     "text": [
      "Company with highest export value:\n",
      " Agro Export Nigeria Ltd\n"
     ]
    }
   ],
   "source": [
    "export_value_per_company = df.groupby('Company')['Export Value'].sum()\n",
    "highest_company_with_export_value = export_value_per_company.idxmax()\n",
    "print('Company with highest export value:\\n',highest_company_with_export_value)"
   ]
  },
  {
   "cell_type": "code",
   "execution_count": 18,
   "metadata": {},
   "outputs": [
    {
     "data": {
      "text/plain": [
       "Product Name\n",
       "Cashew      4.386243e+08\n",
       "Cassava     4.165035e+08\n",
       "Cocoa       4.503514e+08\n",
       "Ginger      3.366232e+08\n",
       "Palm Oil    3.853921e+08\n",
       "Plantain    3.877363e+08\n",
       "Rubber      3.957313e+08\n",
       "Sesame      4.774870e+08\n",
       "Name: Profit, dtype: float64"
      ]
     },
     "execution_count": 18,
     "metadata": {},
     "output_type": "execute_result"
    }
   ],
   "source": [
    "df['Profit'] = df['Profit per unit'] * df['Units Sold']\n",
    "profit_per_product = df.groupby('Product Name')['Profit'].sum()\n",
    "profit_per_product"
   ]
  },
  {
   "cell_type": "code",
   "execution_count": 19,
   "metadata": {},
   "outputs": [
    {
     "data": {
      "text/plain": [
       "'Sesame'"
      ]
     },
     "execution_count": 19,
     "metadata": {},
     "output_type": "execute_result"
    }
   ],
   "source": [
    "product_with_highest_profit = profit_per_product.idxmax()\n",
    "product_with_highest_profit"
   ]
  },
  {
   "cell_type": "code",
   "execution_count": 21,
   "metadata": {},
   "outputs": [
    {
     "data": {
      "text/plain": [
       "'Cashew'"
      ]
     },
     "execution_count": 21,
     "metadata": {},
     "output_type": "execute_result"
    }
   ],
   "source": [
    "product_profit_per_unit = df.groupby('Product Name')['Profit per unit'].sum()\n",
    "product_with_most_profit_per_unit = product_profit_per_unit.idxmax()\n",
    "product_with_most_profit_per_unit"
   ]
  },
  {
   "cell_type": "code",
   "execution_count": 22,
   "metadata": {},
   "outputs": [
    {
     "data": {
      "text/plain": [
       "'Italy'"
      ]
     },
     "execution_count": 22,
     "metadata": {},
     "output_type": "execute_result"
    }
   ],
   "source": [
    "export_value_per_country = df.groupby('Export Country')['Export Value'].sum()\n",
    "country_with_most_export_value = export_value_per_country.idxmax()\n",
    "country_with_most_export_value"
   ]
  },
  {
   "cell_type": "code",
   "execution_count": null,
   "metadata": {},
   "outputs": [],
   "source": [
    "df['Year'] = df['Date'].dt.year"
   ]
  },
  {
   "cell_type": "code",
   "execution_count": 25,
   "metadata": {},
   "outputs": [
    {
     "name": "stdout",
     "output_type": "stream",
     "text": [
      "Units sold per Year\n",
      " Year\n",
      "2020    132765\n",
      "2021    142577\n",
      "2022    125872\n",
      "2023    135590\n",
      "Name: Units Sold, dtype: int64\n"
     ]
    }
   ],
   "source": [
    "units_per_year = df.groupby('Year')['Units Sold'].sum()\n",
    "print('Units sold per Year\\n', units_per_year)"
   ]
  },
  {
   "cell_type": "code",
   "execution_count": null,
   "metadata": {},
   "outputs": [
    {
     "data": {
      "text/plain": [
       "np.int32(2021)"
      ]
     },
     "execution_count": 26,
     "metadata": {},
     "output_type": "execute_result"
    }
   ],
   "source": [
    "year_with_most_exports = units_per_year.idxmax()\n",
    "year_with_most_exports"
   ]
  }
 ],
 "metadata": {
  "kernelspec": {
   "display_name": "Python 3",
   "language": "python",
   "name": "python3"
  },
  "language_info": {
   "codemirror_mode": {
    "name": "ipython",
    "version": 3
   },
   "file_extension": ".py",
   "mimetype": "text/x-python",
   "name": "python",
   "nbconvert_exporter": "python",
   "pygments_lexer": "ipython3",
   "version": "3.13.0"
  }
 },
 "nbformat": 4,
 "nbformat_minor": 2
}
